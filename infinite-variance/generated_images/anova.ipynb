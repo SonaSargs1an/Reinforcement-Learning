{
 "cells": [
  {
   "metadata": {},
   "cell_type": "code",
   "outputs": [],
   "execution_count": null,
   "source": "",
   "id": "d988a4d80a26ce20"
  },
  {
   "metadata": {},
   "cell_type": "code",
   "outputs": [],
   "execution_count": null,
   "source": [
    "import pandas as pd\n",
    "from scipy import stats\n",
    "\n",
    "# Ֆայլը կարդալ\n",
    "file_path = '/mnt/data/Advertising.csv'\n",
    "data = pd.read_csv(file_path)\n",
    "\n",
    "# Ընթերցենք համապատասխան սյունակները\n",
    "tv = data['TV']\n",
    "radio = data['Radio']\n",
    "newspaper = data['Newspaper']\n",
    "\n",
    "# ANOVA կատարենք\n",
    "f_stat, p_value = stats.f_oneway(tv, radio, newspaper)\n",
    "\n",
    "f_stat, p_value\n"
   ],
   "id": "eb9f2d44b20d9af7"
  }
 ],
 "metadata": {},
 "nbformat": 4,
 "nbformat_minor": 5
}
